{
 "cells": [
  {
   "cell_type": "markdown",
   "metadata": {},
   "source": [
    "# Макетирование работы с векторной базой данных\n",
    "\n",
    "Для реализации хранение пользовательских данных используем комбинацию:\n",
    "[langchain](https://www.langchain.com/), [chromaDB](https://github.com/chroma-core/chroma).\n",
    "\n",
    "Макетируем следующие варианты использования:\n",
    "* сохранение пользовательской информации в векторную базу данных.\n",
    "* использование векторные базы данных (ВБД) в ходе диалога."
   ]
  },
  {
   "cell_type": "code",
   "execution_count": null,
   "metadata": {},
   "outputs": [],
   "source": [
    "# сохранение пользовательской информации в векторную базу данных.\n",
    "\n",
    "import chromadb\n",
    "\n",
    "# Иницилизируем клиентский объект\n",
    "client = chromadb.Client()\n",
    "\n",
    "# Создаём базу данных. get_collection, get_or_create_collection, delete_collection также доступны!\n",
    "collection = client.create_collection(\"all-my-documents\")"
   ]
  },
  {
   "cell_type": "code",
   "execution_count": 7,
   "metadata": {},
   "outputs": [
    {
     "name": "stderr",
     "output_type": "stream",
     "text": [
      "Insert of existing embedding ID: doc1\n",
      "Insert of existing embedding ID: doc2\n",
      "Add of existing embedding ID: doc1\n",
      "Add of existing embedding ID: doc2\n"
     ]
    }
   ],
   "source": [
    "# Загрузка данных\n",
    "# Формат данных\n",
    "docs = [\n",
    "    {\n",
    "        \"id\": \"doc1\",\n",
    "        \"text\": \"This is document1\",\n",
    "        \"metadata\": {\"source\": \"notion\"},\n",
    "    },\n",
    "    {\n",
    "        \"id\": \"doc2\",\n",
    "        \"text\": \"This is document2\",\n",
    "        \"metadata\": {\"source\": \"google-docs\"},\n",
    "    }\n",
    "]\n",
    "\n",
    "# Добавляем документы в коллекцию. Также возможно update and delete.\n",
    "collection.add(\n",
    "    documents=[el[\"text\"] for el in docs], \n",
    "    metadatas=[el[\"metadata\"] for el in docs], \n",
    "    ids=[el[\"id\"] for el in docs]) "
   ]
  },
  {
   "cell_type": "code",
   "execution_count": 8,
   "metadata": {},
   "outputs": [
    {
     "name": "stdout",
     "output_type": "stream",
     "text": [
      "{'ids': [['doc1', 'doc2']], 'distances': [[0.9026355743408203, 1.035815954208374]], 'metadatas': [[{'source': 'notion'}, {'source': 'google-docs'}]], 'embeddings': None, 'documents': [['This is document1', 'This is document2']]}\n"
     ]
    }
   ],
   "source": [
    "# Запрос данных из БД.\n",
    "results = collection.query(\n",
    "    query_texts=[\"This is a query document\"],\n",
    "    n_results=2,\n",
    "    # where={\"source\": \"notion\"}, \n",
    "    # where_document={\"$contains\":\"search_string\"}  \n",
    ")\n",
    "print(results)"
   ]
  },
  {
   "cell_type": "code",
   "execution_count": null,
   "metadata": {},
   "outputs": [],
   "source": []
  }
 ],
 "metadata": {
  "kernelspec": {
   "display_name": ".venv",
   "language": "python",
   "name": "python3"
  },
  "language_info": {
   "codemirror_mode": {
    "name": "ipython",
    "version": 3
   },
   "file_extension": ".py",
   "mimetype": "text/x-python",
   "name": "python",
   "nbconvert_exporter": "python",
   "pygments_lexer": "ipython3",
   "version": "3.11.2"
  },
  "orig_nbformat": 4
 },
 "nbformat": 4,
 "nbformat_minor": 2
}
